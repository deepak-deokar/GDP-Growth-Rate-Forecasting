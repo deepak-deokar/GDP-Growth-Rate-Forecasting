{
 "cells": [
  {
   "cell_type": "code",
   "execution_count": 2,
   "id": "d836e586",
   "metadata": {},
   "outputs": [],
   "source": [
    "# Step 1: Import Required Libraries\n",
    "import pandas as pd\n",
    "import numpy as np\n",
    "import matplotlib.pyplot as plt\n",
    "import seaborn as sns\n",
    "import os\n",
    "\n",
    "# Set Seaborn style\n",
    "sns.set_style('whitegrid')"
   ]
  },
  {
   "cell_type": "code",
   "execution_count": 6,
   "id": "d5a2f555",
   "metadata": {},
   "outputs": [],
   "source": [
    "# Step 2: Load Dataset\n",
    "data_path = \"/Users/deepakdeokar/Desktop/GDP_Forecasting_Project/data/worldbank_gdp_1960_2023.csv\"\n",
    "\n",
    "# Load the dataset\n",
    "df = pd.read_csv(data_path)"
   ]
  },
  {
   "cell_type": "code",
   "execution_count": 10,
   "id": "275706ff",
   "metadata": {},
   "outputs": [
    {
     "name": "stdout",
     "output_type": "stream",
     "text": [
      "\n",
      "First 5 rows of the dataset:\n",
      "       country  Year  GDP Growth Rate (%)  GDP (current US$)  \\\n",
      "0  Afghanistan  1960                  NaN                NaN   \n",
      "1  Afghanistan  1961                  NaN                NaN   \n",
      "2  Afghanistan  1962                  NaN                NaN   \n",
      "3  Afghanistan  1963                  NaN                NaN   \n",
      "4  Afghanistan  1964                  NaN                NaN   \n",
      "\n",
      "   GNI per capita (current US$)  Exports (% of GDP)  Imports (% of GDP)  \n",
      "0                           NaN                 NaN                 NaN  \n",
      "1                           NaN                 NaN                 NaN  \n",
      "2                           NaN                 NaN                 NaN  \n",
      "3                           NaN                 NaN                 NaN  \n",
      "4                           NaN                 NaN                 NaN  \n",
      "\n",
      "Dataset shape: (17024, 7)\n",
      "\n",
      "Dataset columns: ['country', 'Year', 'GDP Growth Rate (%)', 'GDP (current US$)', 'GNI per capita (current US$)', 'Exports (% of GDP)', 'Imports (% of GDP)']\n"
     ]
    }
   ],
   "source": [
    "# Step 3: Initial Data Overview\n",
    "print(\"\\nFirst 5 rows of the dataset:\")\n",
    "print(df.head())\n",
    "\n",
    "print(\"\\nDataset shape:\", df.shape)\n",
    "print(\"\\nDataset columns:\", df.columns.tolist())"
   ]
  },
  {
   "cell_type": "code",
   "execution_count": 9,
   "id": "bed44144",
   "metadata": {},
   "outputs": [
    {
     "name": "stdout",
     "output_type": "stream",
     "text": [
      "\n",
      "Data Types and Missing Values:\n",
      "<class 'pandas.core.frame.DataFrame'>\n",
      "RangeIndex: 17024 entries, 0 to 17023\n",
      "Data columns (total 7 columns):\n",
      " #   Column                        Non-Null Count  Dtype  \n",
      "---  ------                        --------------  -----  \n",
      " 0   country                       17024 non-null  object \n",
      " 1   Year                          17024 non-null  int64  \n",
      " 2   GDP Growth Rate (%)           13883 non-null  float64\n",
      " 3   GDP (current US$)             14307 non-null  float64\n",
      " 4   GNI per capita (current US$)  12702 non-null  float64\n",
      " 5   Exports (% of GDP)            11047 non-null  float64\n",
      " 6   Imports (% of GDP)            11069 non-null  float64\n",
      "dtypes: float64(5), int64(1), object(1)\n",
      "memory usage: 931.1+ KB\n",
      "\n",
      "Summary Statistics:\n",
      "               Year  GDP Growth Rate (%)  GDP (current US$)  \\\n",
      "count  17024.000000         13883.000000       1.430700e+04   \n",
      "mean    1991.500000             3.673056       1.184720e+12   \n",
      "std       18.473496             6.169865       5.489324e+12   \n",
      "min     1960.000000           -64.047107       2.585956e+06   \n",
      "25%     1975.750000             1.405401       2.293505e+09   \n",
      "50%     1991.500000             3.808982       1.692109e+10   \n",
      "75%     2007.250000             6.118590       2.013025e+11   \n",
      "max     2023.000000           149.972963       1.061717e+14   \n",
      "\n",
      "       GNI per capita (current US$)  Exports (% of GDP)  Imports (% of GDP)  \n",
      "count                  12702.000000        11047.000000        11069.000000  \n",
      "mean                    7720.162617           33.746065           38.456111  \n",
      "std                    13883.410956           26.436254           25.747223  \n",
      "min                       10.000000            0.005377            0.015622  \n",
      "25%                      640.000000           17.738857           22.207852  \n",
      "50%                     2051.399626           26.914640           31.286302  \n",
      "75%                     7520.000000           42.214896           48.695102  \n",
      "max                   132240.000000          433.836004          429.359095  \n"
     ]
    }
   ],
   "source": [
    "# Step 4: Basic Info\n",
    "print(\"\\nData Types and Missing Values:\")\n",
    "df.info()\n",
    "\n",
    "print(\"\\nSummary Statistics:\")\n",
    "print(df.describe())"
   ]
  },
  {
   "cell_type": "code",
   "execution_count": 11,
   "id": "761aaece",
   "metadata": {},
   "outputs": [
    {
     "name": "stdout",
     "output_type": "stream",
     "text": [
      "\n",
      "Missing Value Count Per Column:\n",
      "country                            0\n",
      "Year                               0\n",
      "GDP Growth Rate (%)             3141\n",
      "GDP (current US$)               2717\n",
      "GNI per capita (current US$)    4322\n",
      "Exports (% of GDP)              5977\n",
      "Imports (% of GDP)              5955\n",
      "dtype: int64\n"
     ]
    }
   ],
   "source": [
    "# Step 5: Check Missing Values\n",
    "print(\"\\nMissing Value Count Per Column:\")\n",
    "print(df.isnull().sum())"
   ]
  },
  {
   "cell_type": "code",
   "execution_count": 12,
   "id": "19d43547",
   "metadata": {},
   "outputs": [
    {
     "name": "stdout",
     "output_type": "stream",
     "text": [
      "\n",
      "Number of unique countries: 266\n",
      "Year range: 1960 to 2023\n"
     ]
    }
   ],
   "source": [
    "# Step 6: Unique Countries and Year Range\n",
    "print(\"\\nNumber of unique countries:\", df['country'].nunique())\n",
    "print(\"Year range:\", df['Year'].min(), \"to\", df['Year'].max())"
   ]
  },
  {
   "cell_type": "code",
   "execution_count": 15,
   "id": "6b6161ae",
   "metadata": {},
   "outputs": [
    {
     "name": "stdout",
     "output_type": "stream",
     "text": [
      "\n",
      "Sample missing values by country:\n"
     ]
    },
    {
     "name": "stderr",
     "output_type": "stream",
     "text": [
      "/var/folders/sh/cj5g_s411tq1ry5940fv6rfh0000gn/T/ipykernel_28724/3347104413.py:2: DeprecationWarning: DataFrameGroupBy.apply operated on the grouping columns. This behavior is deprecated, and in a future version of pandas the grouping columns will be excluded from the operation. Either pass `include_groups=False` to exclude the groupings or explicitly select the grouping columns after groupby to silence this warning.\n",
      "  missing_by_country = df.groupby('country').apply(lambda x: x.isnull().sum())\n"
     ]
    },
    {
     "data": {
      "text/html": [
       "<div>\n",
       "<style scoped>\n",
       "    .dataframe tbody tr th:only-of-type {\n",
       "        vertical-align: middle;\n",
       "    }\n",
       "\n",
       "    .dataframe tbody tr th {\n",
       "        vertical-align: top;\n",
       "    }\n",
       "\n",
       "    .dataframe thead th {\n",
       "        text-align: right;\n",
       "    }\n",
       "</style>\n",
       "<table border=\"1\" class=\"dataframe\">\n",
       "  <thead>\n",
       "    <tr style=\"text-align: right;\">\n",
       "      <th></th>\n",
       "      <th>country</th>\n",
       "      <th>Year</th>\n",
       "      <th>GDP Growth Rate (%)</th>\n",
       "      <th>GDP (current US$)</th>\n",
       "      <th>GNI per capita (current US$)</th>\n",
       "      <th>Exports (% of GDP)</th>\n",
       "      <th>Imports (% of GDP)</th>\n",
       "    </tr>\n",
       "    <tr>\n",
       "      <th>country</th>\n",
       "      <th></th>\n",
       "      <th></th>\n",
       "      <th></th>\n",
       "      <th></th>\n",
       "      <th></th>\n",
       "      <th></th>\n",
       "      <th></th>\n",
       "    </tr>\n",
       "  </thead>\n",
       "  <tbody>\n",
       "    <tr>\n",
       "      <th>Afghanistan</th>\n",
       "      <td>0</td>\n",
       "      <td>0</td>\n",
       "      <td>41</td>\n",
       "      <td>40</td>\n",
       "      <td>42</td>\n",
       "      <td>60</td>\n",
       "      <td>60</td>\n",
       "    </tr>\n",
       "    <tr>\n",
       "      <th>Africa Eastern and Southern</th>\n",
       "      <td>0</td>\n",
       "      <td>0</td>\n",
       "      <td>1</td>\n",
       "      <td>0</td>\n",
       "      <td>2</td>\n",
       "      <td>20</td>\n",
       "      <td>30</td>\n",
       "    </tr>\n",
       "    <tr>\n",
       "      <th>Africa Western and Central</th>\n",
       "      <td>0</td>\n",
       "      <td>0</td>\n",
       "      <td>1</td>\n",
       "      <td>0</td>\n",
       "      <td>48</td>\n",
       "      <td>64</td>\n",
       "      <td>64</td>\n",
       "    </tr>\n",
       "    <tr>\n",
       "      <th>Albania</th>\n",
       "      <td>0</td>\n",
       "      <td>0</td>\n",
       "      <td>21</td>\n",
       "      <td>20</td>\n",
       "      <td>24</td>\n",
       "      <td>20</td>\n",
       "      <td>20</td>\n",
       "    </tr>\n",
       "    <tr>\n",
       "      <th>Algeria</th>\n",
       "      <td>0</td>\n",
       "      <td>0</td>\n",
       "      <td>1</td>\n",
       "      <td>0</td>\n",
       "      <td>2</td>\n",
       "      <td>0</td>\n",
       "      <td>0</td>\n",
       "    </tr>\n",
       "  </tbody>\n",
       "</table>\n",
       "</div>"
      ],
      "text/plain": [
       "                             country  Year  GDP Growth Rate (%)  \\\n",
       "country                                                           \n",
       "Afghanistan                        0     0                   41   \n",
       "Africa Eastern and Southern        0     0                    1   \n",
       "Africa Western and Central         0     0                    1   \n",
       "Albania                            0     0                   21   \n",
       "Algeria                            0     0                    1   \n",
       "\n",
       "                             GDP (current US$)  GNI per capita (current US$)  \\\n",
       "country                                                                        \n",
       "Afghanistan                                 40                            42   \n",
       "Africa Eastern and Southern                  0                             2   \n",
       "Africa Western and Central                   0                            48   \n",
       "Albania                                     20                            24   \n",
       "Algeria                                      0                             2   \n",
       "\n",
       "                             Exports (% of GDP)  Imports (% of GDP)  \n",
       "country                                                              \n",
       "Afghanistan                                  60                  60  \n",
       "Africa Eastern and Southern                  20                  30  \n",
       "Africa Western and Central                   64                  64  \n",
       "Albania                                      20                  20  \n",
       "Algeria                                       0                   0  "
      ]
     },
     "execution_count": 15,
     "metadata": {},
     "output_type": "execute_result"
    }
   ],
   "source": [
    "# Step 7: Check Sample Countries with Missing Data\n",
    "missing_by_country = df.groupby('country').apply(lambda x: x.isnull().sum())\n",
    "print(\"\\nSample missing values by country:\")\n",
    "missing_by_country.head()"
   ]
  },
  {
   "cell_type": "markdown",
   "id": "d32aef39",
   "metadata": {},
   "source": [
    "# Preprocessing"
   ]
  },
  {
   "cell_type": "code",
   "execution_count": 16,
   "id": "c808da57",
   "metadata": {},
   "outputs": [],
   "source": [
    "# Step 9: Deep Cleaning\n",
    "\n",
    "## 9.1 Strip extra spaces in country names\n",
    "df['country'] = df['country'].str.strip()\n",
    "\n",
    "## 9.2 Ensure Year is integer\n",
    "df['Year'] = df['Year'].astype(int)\n",
    "\n",
    "## 9.3 Sort dataset properly before interpolation\n",
    "df = df.sort_values(by=['country', 'Year'])"
   ]
  },
  {
   "cell_type": "code",
   "execution_count": 18,
   "id": "ca8bf6ff",
   "metadata": {},
   "outputs": [],
   "source": [
    "## 9.4 Interpolate missing GDP Growth Rate (%) country-wise\n",
    "df['GDP Growth Rate (%)'] = df.groupby('country')['GDP Growth Rate (%)'].transform(lambda x: x.interpolate(method='linear'))\n",
    "\n",
    "## 9.5 Forward Fill and Backward Fill missing GDP Growth Rate (%)\n",
    "df['GDP Growth Rate (%)'] = df.groupby('country')['GDP Growth Rate (%)'].transform(lambda x: x.ffill().bfill())\n",
    "\n",
    "## 9.6 Fill remaining missing GDP Growth Rate (%) with Global Median\n",
    "gdp_median = df['GDP Growth Rate (%)'].median()\n",
    "df['GDP Growth Rate (%)'] = df['GDP Growth Rate (%)'].fillna(gdp_median)\n"
   ]
  },
  {
   "cell_type": "code",
   "execution_count": 19,
   "id": "10597a59",
   "metadata": {},
   "outputs": [],
   "source": [
    "## 9.7 Repeat the same for Exports, Imports, GNI, GDP\n",
    "columns_to_clean = ['Exports (% of GDP)', 'Imports (% of GDP)', 'GNI per capita (current US$)', 'GDP (current US$)']\n",
    "\n",
    "for col in columns_to_clean:\n",
    "    df[col] = df.groupby('country')[col].transform(lambda x: x.interpolate(method='linear'))\n",
    "    df[col] = df.groupby('country')[col].transform(lambda x: x.ffill().bfill())\n",
    "    col_median = df[col].median()\n",
    "    df[col] = df[col].fillna(col_median)\n"
   ]
  },
  {
   "cell_type": "code",
   "execution_count": 20,
   "id": "07fd4ad4",
   "metadata": {},
   "outputs": [
    {
     "name": "stdout",
     "output_type": "stream",
     "text": [
      "\n",
      "After Cleaning - Missing Value Count:\n",
      "country                         0\n",
      "Year                            0\n",
      "GDP Growth Rate (%)             0\n",
      "GDP (current US$)               0\n",
      "GNI per capita (current US$)    0\n",
      "Exports (% of GDP)              0\n",
      "Imports (% of GDP)              0\n",
      "dtype: int64\n"
     ]
    }
   ],
   "source": [
    "## 9.8 Final Check\n",
    "print(\"\\nAfter Cleaning - Missing Value Count:\")\n",
    "print(df.isnull().sum())\n"
   ]
  },
  {
   "cell_type": "code",
   "execution_count": 21,
   "id": "ed8b439c",
   "metadata": {},
   "outputs": [
    {
     "name": "stdout",
     "output_type": "stream",
     "text": [
      "\n",
      "✅ Cleaned dataset saved to: ../data/worldbank_gdp_cleaned.csv\n"
     ]
    }
   ],
   "source": [
    "# Step 10: Save Cleaned Data (Optional)\n",
    "clean_save_path = \"../data/worldbank_gdp_cleaned.csv\"\n",
    "df.to_csv(clean_save_path, index=False)\n",
    "print(f\"\\n✅ Cleaned dataset saved to: {clean_save_path}\")"
   ]
  }
 ],
 "metadata": {
  "kernelspec": {
   "display_name": "Python 3",
   "language": "python",
   "name": "python3"
  },
  "language_info": {
   "codemirror_mode": {
    "name": "ipython",
    "version": 3
   },
   "file_extension": ".py",
   "mimetype": "text/x-python",
   "name": "python",
   "nbconvert_exporter": "python",
   "pygments_lexer": "ipython3",
   "version": "3.10.17"
  }
 },
 "nbformat": 4,
 "nbformat_minor": 5
}
